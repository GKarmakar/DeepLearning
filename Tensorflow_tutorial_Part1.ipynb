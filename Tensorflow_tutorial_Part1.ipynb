{
 "cells": [
  {
   "cell_type": "code",
   "execution_count": 82,
   "metadata": {
    "collapsed": true
   },
   "outputs": [],
   "source": [
    "\"\"\"\n",
    "Tensorflow tutorial -1: Linear Regression\n",
    "\"\"\"\n",
    "import numpy as np\n",
    "import tensorflow as tf"
   ]
  },
  {
   "cell_type": "code",
   "execution_count": 132,
   "metadata": {
    "collapsed": false
   },
   "outputs": [],
   "source": [
    "X = tf.placeholder(tf.float32,[None,1])\n",
    "y_ = tf.placeholder(tf.float32,[None,1])\n",
    "W = tf.Variable(tf.zeros([1,1]))\n",
    "b = tf.Variable(tf.zeros([1]))"
   ]
  },
  {
   "cell_type": "code",
   "execution_count": 84,
   "metadata": {
    "collapsed": false
   },
   "outputs": [],
   "source": [
    "y = tf.matmul(X,W) + b"
   ]
  },
  {
   "cell_type": "code",
   "execution_count": 85,
   "metadata": {
    "collapsed": true
   },
   "outputs": [],
   "source": [
    "cost = tf.reduce_mean(tf.square(y_-y))"
   ]
  },
  {
   "cell_type": "code",
   "execution_count": 86,
   "metadata": {
    "collapsed": true
   },
   "outputs": [],
   "source": [
    "learning_rate = 0.0001"
   ]
  },
  {
   "cell_type": "code",
   "execution_count": 87,
   "metadata": {
    "collapsed": true
   },
   "outputs": [],
   "source": [
    "train_step = tf.train.GradientDescentOptimizer(learning_rate).minimize(cost)"
   ]
  },
  {
   "cell_type": "code",
   "execution_count": 88,
   "metadata": {
    "collapsed": true
   },
   "outputs": [],
   "source": [
    "sess = tf.InteractiveSession()"
   ]
  },
  {
   "cell_type": "code",
   "execution_count": 89,
   "metadata": {
    "collapsed": false
   },
   "outputs": [],
   "source": [
    "init = tf.global_variables_initializer()"
   ]
  },
  {
   "cell_type": "code",
   "execution_count": 90,
   "metadata": {
    "collapsed": true
   },
   "outputs": [],
   "source": [
    "sess.run(init)"
   ]
  },
  {
   "cell_type": "code",
   "execution_count": 93,
   "metadata": {
    "collapsed": true
   },
   "outputs": [],
   "source": [
    "steps = 50"
   ]
  },
  {
   "cell_type": "code",
   "execution_count": 94,
   "metadata": {
    "collapsed": false
   },
   "outputs": [
    {
     "name": "stdout",
     "output_type": "stream",
     "text": [
      "After 0 steps:\n",
      "W: 1.998889\n",
      "b: 0.110525\n",
      "Cost: 0.012216\n",
      "After 1 steps:\n",
      "W: 1.998867\n",
      "b: 0.110503\n",
      "Cost: 0.011962\n",
      "After 2 steps:\n",
      "W: 1.998824\n",
      "b: 0.110482\n",
      "Cost: 0.011692\n",
      "After 3 steps:\n",
      "W: 1.998760\n",
      "b: 0.110460\n",
      "Cost: 0.011393\n",
      "After 4 steps:\n",
      "W: 1.998675\n",
      "b: 0.110439\n",
      "Cost: 0.011054\n",
      "After 5 steps:\n",
      "W: 1.998571\n",
      "b: 0.110418\n",
      "Cost: 0.010666\n",
      "After 6 steps:\n",
      "W: 1.998449\n",
      "b: 0.110398\n",
      "Cost: 0.010220\n",
      "After 7 steps:\n",
      "W: 1.998310\n",
      "b: 0.110378\n",
      "Cost: 0.009712\n",
      "After 8 steps:\n",
      "W: 1.998155\n",
      "b: 0.110359\n",
      "Cost: 0.009139\n",
      "After 9 steps:\n",
      "W: 1.997986\n",
      "b: 0.110340\n",
      "Cost: 0.008504\n",
      "After 10 steps:\n",
      "W: 1.997806\n",
      "b: 0.110322\n",
      "Cost: 0.007811\n",
      "After 11 steps:\n",
      "W: 1.997616\n",
      "b: 0.110305\n",
      "Cost: 0.007069\n",
      "After 12 steps:\n",
      "W: 1.997420\n",
      "b: 0.110288\n",
      "Cost: 0.006293\n",
      "After 13 steps:\n",
      "W: 1.997220\n",
      "b: 0.110273\n",
      "Cost: 0.005497\n",
      "After 14 steps:\n",
      "W: 1.997021\n",
      "b: 0.110259\n",
      "Cost: 0.004699\n",
      "After 15 steps:\n",
      "W: 1.996824\n",
      "b: 0.110246\n",
      "Cost: 0.003919\n",
      "After 16 steps:\n",
      "W: 1.996634\n",
      "b: 0.110234\n",
      "Cost: 0.003178\n",
      "After 17 steps:\n",
      "W: 1.996454\n",
      "b: 0.110223\n",
      "Cost: 0.002493\n",
      "After 18 steps:\n",
      "W: 1.996287\n",
      "b: 0.110214\n",
      "Cost: 0.001881\n",
      "After 19 steps:\n",
      "W: 1.996136\n",
      "b: 0.110206\n",
      "Cost: 0.001353\n",
      "After 20 steps:\n",
      "W: 1.996004\n",
      "b: 0.110199\n",
      "Cost: 0.000917\n",
      "After 21 steps:\n",
      "W: 1.995894\n",
      "b: 0.110194\n",
      "Cost: 0.000574\n",
      "After 22 steps:\n",
      "W: 1.995806\n",
      "b: 0.110190\n",
      "Cost: 0.000321\n",
      "After 23 steps:\n",
      "W: 1.995743\n",
      "b: 0.110187\n",
      "Cost: 0.000151\n",
      "After 24 steps:\n",
      "W: 1.995705\n",
      "b: 0.110186\n",
      "Cost: 0.000050\n",
      "After 25 steps:\n",
      "W: 1.995691\n",
      "b: 0.110185\n",
      "Cost: 0.000006\n",
      "After 26 steps:\n",
      "W: 1.995700\n",
      "b: 0.110186\n",
      "Cost: 0.000003\n",
      "After 27 steps:\n",
      "W: 1.995732\n",
      "b: 0.110187\n",
      "Cost: 0.000025\n",
      "After 28 steps:\n",
      "W: 1.995784\n",
      "b: 0.110189\n",
      "Cost: 0.000062\n",
      "After 29 steps:\n",
      "W: 1.995854\n",
      "b: 0.110191\n",
      "Cost: 0.000101\n",
      "After 30 steps:\n",
      "W: 1.995939\n",
      "b: 0.110194\n",
      "Cost: 0.000135\n",
      "After 31 steps:\n",
      "W: 1.996037\n",
      "b: 0.110197\n",
      "Cost: 0.000160\n",
      "After 32 steps:\n",
      "W: 1.996143\n",
      "b: 0.110200\n",
      "Cost: 0.000175\n",
      "After 33 steps:\n",
      "W: 1.996256\n",
      "b: 0.110204\n",
      "Cost: 0.000178\n",
      "After 34 steps:\n",
      "W: 1.996372\n",
      "b: 0.110207\n",
      "Cost: 0.000173\n",
      "After 35 steps:\n",
      "W: 1.996490\n",
      "b: 0.110211\n",
      "Cost: 0.000160\n",
      "After 36 steps:\n",
      "W: 1.996606\n",
      "b: 0.110214\n",
      "Cost: 0.000143\n",
      "After 37 steps:\n",
      "W: 1.996720\n",
      "b: 0.110217\n",
      "Cost: 0.000125\n",
      "After 38 steps:\n",
      "W: 1.996829\n",
      "b: 0.110220\n",
      "Cost: 0.000105\n",
      "After 39 steps:\n",
      "W: 1.996934\n",
      "b: 0.110222\n",
      "Cost: 0.000087\n",
      "After 40 steps:\n",
      "W: 1.997033\n",
      "b: 0.110225\n",
      "Cost: 0.000071\n",
      "After 41 steps:\n",
      "W: 1.997127\n",
      "b: 0.110227\n",
      "Cost: 0.000057\n",
      "After 42 steps:\n",
      "W: 1.997215\n",
      "b: 0.110229\n",
      "Cost: 0.000046\n",
      "After 43 steps:\n",
      "W: 1.997297\n",
      "b: 0.110231\n",
      "Cost: 0.000036\n",
      "After 44 steps:\n",
      "W: 1.997373\n",
      "b: 0.110233\n",
      "Cost: 0.000029\n",
      "After 45 steps:\n",
      "W: 1.997445\n",
      "b: 0.110235\n",
      "Cost: 0.000022\n",
      "After 46 steps:\n",
      "W: 1.997512\n",
      "b: 0.110236\n",
      "Cost: 0.000018\n",
      "After 47 steps:\n",
      "W: 1.997575\n",
      "b: 0.110237\n",
      "Cost: 0.000014\n",
      "After 48 steps:\n",
      "W: 1.997634\n",
      "b: 0.110239\n",
      "Cost: 0.000011\n",
      "After 49 steps:\n",
      "W: 1.997690\n",
      "b: 0.110240\n",
      "Cost: 0.000009\n"
     ]
    }
   ],
   "source": [
    "for i in range(steps):\n",
    "    xs = np.array([[i]])\n",
    "    ys = np.array([[2*i]])\n",
    "    feed_dict = { X: xs, y_: ys }\n",
    "    sess.run(train_step, feed_dict)\n",
    "    print(\"After %d steps:\" % i)\n",
    "    print(\"W: %f\" % sess.run(W))\n",
    "    print(\"b: %f\" % sess.run(b))\n",
    "    print(\"Cost: %f\" % sess.run(cost, feed_dict=feed_dict))"
   ]
  }
 ],
 "metadata": {
  "anaconda-cloud": {},
  "kernelspec": {
   "display_name": "Python [conda root]",
   "language": "python",
   "name": "conda-root-py"
  },
  "language_info": {
   "codemirror_mode": {
    "name": "ipython",
    "version": 2
   },
   "file_extension": ".py",
   "mimetype": "text/x-python",
   "name": "python",
   "nbconvert_exporter": "python",
   "pygments_lexer": "ipython2",
   "version": "2.7.12"
  }
 },
 "nbformat": 4,
 "nbformat_minor": 2
}
